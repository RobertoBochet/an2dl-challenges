{
 "cells": [
  {
   "cell_type": "code",
   "execution_count": null,
   "metadata": {},
   "outputs": [],
   "source": [
    "import itertools\n",
    "import json\n",
    "import os\n",
    "import pathlib\n",
    "import shutil\n",
    "from datetime import datetime\n",
    "\n",
    "import matplotlib.pyplot as plt\n",
    "import numpy as np\n",
    "import tensorflow as tf\n",
    "import tensorflow.keras as kr\n",
    "\n",
    "SEED = 1234\n",
    "tf.random.set_seed(SEED)\n",
    "\n",
    "experiment_name = \"VCC16_13\""
   ]
  },
  {
   "cell_type": "markdown",
   "metadata": {},
   "source": [
    "Defines the data paths"
   ]
  },
  {
   "cell_type": "code",
   "execution_count": null,
   "metadata": {
    "pycharm": {
     "name": "#%%\n"
    }
   },
   "outputs": [],
   "source": [
    "PATH_BASE = pathlib.Path(\"./\")\n",
    "\n",
    "PATH_DATA_RAW = PATH_BASE / \"data_raw\"\n",
    "PATH_DATA = PATH_BASE / \"data\"\n",
    "\n",
    "PATH_DATA_RAW_TRAINING = PATH_DATA_RAW / \"training\"\n",
    "PATH_DATA_RAW_OUTPUT = PATH_DATA_RAW / \"train_gt.json\"\n",
    "\n",
    "PATH_DATA_TRAINING = PATH_DATA / \"training\"\n",
    "\n",
    "PATH_DATA_TRAINING_CLASSES = [\n",
    "    PATH_DATA_TRAINING / \"no_mask\",\n",
    "    PATH_DATA_TRAINING / \"all_mask\",\n",
    "    PATH_DATA_TRAINING / \"some_mask\"\n",
    "]\n",
    "\n",
    "PATH_EXPERIMENTS = PATH_BASE / \"experiments\""
   ]
  },
  {
   "cell_type": "code",
   "execution_count": null,
   "metadata": {
    "pycharm": {
     "name": "#%%\n"
    }
   },
   "outputs": [],
   "source": [
    "# prepares data folders\n",
    "os.makedirs(PATH_DATA_TRAINING, exist_ok=True)\n",
    "\n",
    "for p in PATH_DATA_TRAINING_CLASSES:\n",
    "    os.makedirs(p, exist_ok=True)\n",
    "\n",
    "# loads trainings images' labels\n",
    "with open(PATH_DATA_RAW_OUTPUT) as json_file:\n",
    "    training_labels_raw = json.load(json_file)\n",
    "\n",
    "# splits the images in three list by class\n",
    "training_labels_raw = [(k, v) for k, v in training_labels_raw.items()]\n",
    "training_labels_raw = {c: list(v) for c, v in itertools.groupby(\n",
    "    training_labels_raw, key=lambda i: i[1])}\n",
    "training_labels_raw = {\n",
    "    k: list(map(lambda i: i[0], v)) for k, v in training_labels_raw.items()}\n",
    "\n",
    "# copy training images in the new fs struct\n",
    "for label, images in training_labels_raw.items():\n",
    "    for image in images:\n",
    "        shutil.copy2(PATH_DATA_RAW_TRAINING / image,\n",
    "                     PATH_DATA_TRAINING_CLASSES[label])\n",
    "        # on filesystem without cow support use symlink instead of"
   ]
  },
  {
   "cell_type": "code",
   "execution_count": null,
   "metadata": {
    "pycharm": {
     "name": "#%%\n"
    }
   },
   "outputs": [],
   "source": [
    "class DatasetGenerator:\n",
    "    def __init__(self, preprocessing_function = None):\n",
    "        self._dataset_generator_training = kr.preprocessing.image.ImageDataGenerator(\n",
    "            preprocessing_function=preprocessing_function,\n",
    "            rotation_range=10,\n",
    "            zoom_range=0.3,\n",
    "            width_shift_range=10,\n",
    "            height_shift_range=10,\n",
    "            shear_range=0.15,\n",
    "            horizontal_flip=True,\n",
    "            vertical_flip=False,\n",
    "            fill_mode=\"nearest\",\n",
    "            rescale=1/255.,\n",
    "            validation_split=0.2\n",
    "        )\n",
    "\n",
    "        self._dataset_generator_test = kr.preprocessing.image.ImageDataGenerator(\n",
    "            preprocessing_function=preprocessing_function,\n",
    "            rescale=1/255.\n",
    "        )\n",
    "\n",
    "    def get_training(self):\n",
    "        return self._dataset_generator_training.flow_from_directory(\n",
    "            PATH_DATA_TRAINING,\n",
    "            class_mode=\"categorical\",\n",
    "            subset=\"training\",\n",
    "            seed=SEED,\n",
    "            shuffle=True,\n",
    "            batch_size=32)\n",
    "\n",
    "    def get_validation(self):\n",
    "        return self._dataset_generator_training.flow_from_directory(\n",
    "            PATH_DATA_TRAINING,\n",
    "            class_mode=\"categorical\",\n",
    "            subset=\"validation\",\n",
    "            seed=SEED,\n",
    "            shuffle=True,\n",
    "            batch_size=32)"
   ]
  },
  {
   "cell_type": "code",
   "execution_count": null,
   "metadata": {
    "pycharm": {
     "name": "#%%\n"
    }
   },
   "outputs": [],
   "source": [
    "dataset_generator_training = kr.preprocessing.image.ImageDataGenerator(\n",
    "    rotation_range=10,\n",
    "    zoom_range=0.3,\n",
    "    width_shift_range=10,\n",
    "    height_shift_range=10,\n",
    "    shear_range=0.15,\n",
    "    horizontal_flip=True,\n",
    "    vertical_flip=False,\n",
    "    fill_mode=\"nearest\",\n",
    "    rescale=1/255.,\n",
    "    validation_split = 0.2\n",
    ")\n",
    "\n",
    "dataset_generator_test = kr.preprocessing.image.ImageDataGenerator(rescale=1/255.)"
   ]
  },
  {
   "cell_type": "code",
   "execution_count": null,
   "metadata": {
    "pycharm": {
     "name": "#%%\n"
    }
   },
   "outputs": [],
   "source": [
    "dataset_training = dataset_generator_training.flow_from_directory(\n",
    "    PATH_DATA_TRAINING,\n",
    "    class_mode = \"categorical\",\n",
    "    subset=\"training\",\n",
    "    seed=SEED,\n",
    "    shuffle=True,\n",
    "    batch_size=32)\n",
    "\n",
    "dataset_validation = dataset_generator_training.flow_from_directory(\n",
    "    PATH_DATA_TRAINING,\n",
    "    class_mode = \"categorical\",\n",
    "    subset=\"validation\",\n",
    "    seed=SEED,\n",
    "    shuffle=True,\n",
    "    batch_size=32)"
   ]
  },
  {
   "cell_type": "code",
   "execution_count": null,
   "metadata": {
    "pycharm": {
     "name": "#%%\n"
    }
   },
   "outputs": [],
   "source": [
    "plt.figure(figsize=(10, 10))\n",
    "images, labels = dataset_training.next()\n",
    "for i in range(9):\n",
    "    ax = plt.subplot(3, 3, i + 1)\n",
    "    plt.imshow((images[i] * 255.).astype(\"uint8\"))\n",
    "    plt.title(list(dataset_training.class_indices.keys())[list(dataset_training.class_indices.values()).index(np.argmax(labels[i]))])\n",
    "    plt.axis(\"off\")"
   ]
  },
  {
   "cell_type": "markdown",
   "metadata": {},
   "source": [
    "## Model"
   ]
  },
  {
   "cell_type": "markdown",
   "metadata": {},
   "source": [
    "### Useful functions"
   ]
  },
  {
   "cell_type": "markdown",
   "metadata": {
    "pycharm": {
     "name": "#%% md\n"
    }
   },
   "source": [
    "Defines callbacks for:\n",
    "\n",
    "- checkpoints\n",
    "- tensorboard\n",
    "- early stopping"
   ]
  },
  {
   "cell_type": "code",
   "execution_count": null,
   "metadata": {
    "pycharm": {
     "name": "#%%\n"
    }
   },
   "outputs": [],
   "source": [
    "def prepare_callback():\n",
    "    path_current_experiment = PATH_EXPERIMENTS / \"{}_{}\".format(datetime.now().strftime(\"%m-%d_%H-%M-%S\"), experiment_name)\n",
    "\n",
    "    path_checkpoints = path_current_experiment / \"checkpoints\"\n",
    "    path_tensorboard_log = path_current_experiment / \"tb_log\"\n",
    "\n",
    "    os.makedirs(path_checkpoints, exist_ok=True)\n",
    "    os.makedirs(path_tensorboard_log, exist_ok=True)\n",
    "\n",
    "    return [\n",
    "        kr.callbacks.ModelCheckpoint(\n",
    "            path_checkpoints\n",
    "        ),\n",
    "        kr.callbacks.TensorBoard(\n",
    "            path_tensorboard_log,\n",
    "            histogram_freq=1,\n",
    "            profile_batch=0\n",
    "        ),\n",
    "        kr.callbacks.EarlyStopping(\n",
    "            patience=5,\n",
    "            restore_best_weights=True\n",
    "        )\n",
    "    ]"
   ]
  },
  {
   "cell_type": "markdown",
   "metadata": {
    "pycharm": {
     "name": "#%% md\n"
    }
   },
   "source": [
    "### CNN"
   ]
  },
  {
   "cell_type": "code",
   "execution_count": null,
   "metadata": {
    "pycharm": {
     "name": "#%%\n"
    }
   },
   "outputs": [],
   "source": [
    "input_shape=(None,*dataset_training.image_shape)\n",
    "output_shape=dataset_training.num_classes\n",
    "\n",
    "depth = 5\n",
    "start_f = 8\n",
    "\n",
    "def filters_from_depth(d:int) -> int:\n",
    "    return start_f*(2**d)\n",
    "\n",
    "model = kr.Sequential()\n",
    "\n",
    "for i in range(depth):\n",
    "\n",
    "    model.add(kr.layers.Conv2D(\n",
    "        filters=filters_from_depth(i),\n",
    "        kernel_size=(3,3),\n",
    "        strides=(1,1),\n",
    "        padding=\"same\"\n",
    "    ))\n",
    "    model.add(kr.layers.ReLU())\n",
    "    model.add(kr.layers.MaxPool2D())\n",
    "\n",
    "model.add(kr.layers.Flatten())\n",
    "model.add(kr.layers.Dense(units=512, activation=kr.activations.relu))\n",
    "#model.add(kr.layers.Dropout(0.3))\n",
    "model.add(kr.layers.Dense(units=output_shape, activation=kr.activations.softmax))\n",
    "\n",
    "model.build(input_shape=input_shape)"
   ]
  },
  {
   "cell_type": "code",
   "execution_count": null,
   "metadata": {
    "pycharm": {
     "name": "#%%\n"
    }
   },
   "outputs": [],
   "source": [
    "model.compile(\n",
    "    optimizer=kr.optimizers.Adam(learning_rate=1e-4),\n",
    "    loss=kr.losses.CategoricalCrossentropy(),\n",
    "    metrics=[\"accuracy\"]\n",
    ")"
   ]
  },
  {
   "cell_type": "code",
   "execution_count": null,
   "metadata": {
    "pycharm": {
     "name": "#%%\n"
    }
   },
   "outputs": [],
   "source": [
    "model.summary()"
   ]
  },
  {
   "cell_type": "code",
   "execution_count": null,
   "metadata": {
    "pycharm": {
     "name": "#%%\n"
    }
   },
   "outputs": [],
   "source": [
    "model.fit(\n",
    "    dataset_training,\n",
    "    validation_data=dataset_validation,\n",
    "    epochs=100,\n",
    "    steps_per_epoch=dataset_training.batch_size,\n",
    "    callbacks=prepare_callback()\n",
    ")"
   ]
  },
  {
   "cell_type": "markdown",
   "metadata": {
    "pycharm": {
     "name": "#%% md\n"
    }
   },
   "source": [
    "### Transfer learning"
   ]
  },
  {
   "cell_type": "code",
   "execution_count": null,
   "metadata": {
    "pycharm": {
     "name": "#%%\n"
    }
   },
   "outputs": [],
   "source": [
    "experiment_name = \"Xcep\"\n",
    "\n",
    "inputs = kr.Input(shape=(150, 150, 3))\n",
    "output_shape=dataset_training.num_classes\n",
    "\n",
    "base_model = kr.applications.Xception(\n",
    "    weights='imagenet',  # Load weights pre-trained on ImageNet.\n",
    "    input_shape=inputs.get_shape()[1:],\n",
    "    include_top=False)\n",
    "\n",
    "base_model.trainable = False\n",
    "\n",
    "base_model.summary()\n",
    "\n",
    "base_model = kr.applications.Xception(\n",
    "    weights='imagenet')\n",
    "\n",
    "base_model.trainable = False\n",
    "\n",
    "base_model.summary()"
   ]
  },
  {
   "cell_type": "code",
   "execution_count": null,
   "metadata": {
    "pycharm": {
     "name": "#%%\n"
    }
   },
   "outputs": [],
   "source": [
    "experiment_name = \"vgg16\"\n",
    "\n",
    "ds_gen = DatasetGenerator(preprocessing_function=kr.applications.vgg19.preprocess_input)\n",
    "\n",
    "dataset_training = ds_gen.get_training()\n",
    "dataset_validation = ds_gen.get_validation()\n",
    "\n",
    "inputs = kr.Input(shape=dataset_training.image_shape)\n",
    "output_shape=dataset_training.num_classes\n",
    "\n",
    "pretrained_model = kr.applications.VGG16(\n",
    "    include_top=False,\n",
    "    weights=\"imagenet\",\n",
    "    input_tensor=inputs\n",
    ")\n",
    "\n",
    "model = kr.Sequential()\n",
    "model.add(pretrained_model)\n",
    "model.layers[0].trainable = False\n",
    "\n",
    "model.add(kr.layers.Flatten())\n",
    "model.add(kr.layers.Dense(units=512, activation=kr.activations.relu))\n",
    "#model.add(kr.layers.Dropout(0.3))\n",
    "model.add(kr.layers.Dense(units=output_shape, activation=kr.activations.softmax))\n",
    "\n",
    "model.summary()\n",
    "\n",
    "model.compile(\n",
    "    optimizer=kr.optimizers.Adam(learning_rate=1e-4),\n",
    "    loss=kr.losses.CategoricalCrossentropy(),\n",
    "    metrics=[\"accuracy\"]\n",
    ")\n",
    "\n",
    "model.fit(\n",
    "    dataset_training,\n",
    "    validation_data=dataset_validation,\n",
    "    epochs=100,\n",
    "    steps_per_epoch=dataset_training.batch_size,\n",
    "    callbacks=prepare_callback()\n",
    ")"
   ]
  },
  {
   "cell_type": "code",
   "execution_count": null,
   "metadata": {
    "pycharm": {
     "name": "#%%\n"
    }
   },
   "outputs": [],
   "source": [
    "#avoid this method due to https://github.com/tensorflow/tensorflow/pull/44769 still open\n",
    "\n",
    "# training_labels = list(map(lambda i: i[1], sorted(training_labels_raw.items(), key=lambda x: x[0])))\n",
    "#\n",
    "# training_dataset = tf.keras.preprocessing.image_dataset_from_directory(\n",
    "#     training_image_dir,\n",
    "#     labels = training_labels,\n",
    "#     label_mode = \"categorical\",\n",
    "#     validation_split = 0.2,\n",
    "#     subset=\"training\",\n",
    "#     seed=123,\n",
    "#     image_size=(IMAGE_HEIGHT, IMAGE_WIDTH),\n",
    "#     batch_size=32)\n"
   ]
  }
 ],
 "metadata": {
  "kernelspec": {
   "display_name": "PyCharm (challenges)",
   "language": "python",
   "name": "pycharm-882e852f"
  },
  "language_info": {
   "codemirror_mode": {
    "name": "ipython",
    "version": 3
   },
   "file_extension": ".py",
   "mimetype": "text/x-python",
   "name": "python",
   "nbconvert_exporter": "python",
   "pygments_lexer": "ipython3",
   "version": "3.8.6"
  }
 },
 "nbformat": 4,
 "nbformat_minor": 4
}