{
 "cells": [
  {
   "cell_type": "markdown",
   "metadata": {
    "papermill": {
     "duration": 0.012687,
     "end_time": "2020-11-20T16:11:52.298945",
     "exception": false,
     "start_time": "2020-11-20T16:11:52.286258",
     "status": "completed"
    },
    "pycharm": {
     "name": "#%% md\n"
    },
    "tags": []
   },
   "source": [
    "### Install dependencies"
   ]
  },
  {
   "cell_type": "markdown",
   "metadata": {},
   "source": [
    "Forces to install `keras` version `2.4.3` and `backports.cached-property` for old versions of python"
   ]
  },
  {
   "cell_type": "code",
   "execution_count": null,
   "metadata": {
    "execution": {
     "iopub.execute_input": "2020-11-20T16:11:52.328276Z",
     "iopub.status.busy": "2020-11-20T16:11:52.327577Z",
     "iopub.status.idle": "2020-11-20T16:12:00.279521Z",
     "shell.execute_reply": "2020-11-20T16:12:00.278893Z"
    },
    "papermill": {
     "duration": 7.968889,
     "end_time": "2020-11-20T16:12:00.279638",
     "exception": false,
     "start_time": "2020-11-20T16:11:52.310749",
     "status": "completed"
    },
    "tags": []
   },
   "outputs": [],
   "source": [
    "!pip install -qU --force-reinstall --no-deps keras==2.4.3 backports.cached-property"
   ]
  },
  {
   "cell_type": "markdown",
   "metadata": {
    "papermill": {
     "duration": 0.01259,
     "end_time": "2020-11-20T16:12:00.304288",
     "exception": false,
     "start_time": "2020-11-20T16:12:00.291698",
     "status": "completed"
    },
    "pycharm": {
     "name": "#%% md\n"
    },
    "tags": []
   },
   "source": [
    "## Initialization"
   ]
  },
  {
   "cell_type": "code",
   "execution_count": null,
   "metadata": {
    "execution": {
     "iopub.execute_input": "2020-11-20T16:12:00.343187Z",
     "iopub.status.busy": "2020-11-20T16:12:00.341964Z",
     "iopub.status.idle": "2020-11-20T16:12:07.704658Z",
     "shell.execute_reply": "2020-11-20T16:12:07.703980Z"
    },
    "id": "lO_ifGRGEanh",
    "outputId": "bda74fd0-52b5-49f5-fc03-6818e8cc055d",
    "papermill": {
     "duration": 7.386311,
     "end_time": "2020-11-20T16:12:07.704776",
     "exception": false,
     "start_time": "2020-11-20T16:12:00.318465",
     "status": "completed"
    },
    "tags": []
   },
   "outputs": [],
   "source": [
    "import json\n",
    "import os\n",
    "import pathlib\n",
    "import csv\n",
    "\n",
    "from datetime import datetime\n",
    "from enum import Enum\n",
    "\n",
    "import numpy as np\n",
    "import sklearn as sk\n",
    "import sklearn.model_selection\n",
    "import tensorflow as tf\n",
    "import tensorflow.keras as kr\n",
    "\n",
    "# for retrocompatibility if python version is less than 3.8\n",
    "try:\n",
    "    from functools import cached_property\n",
    "except ImportError:\n",
    "    from backports.cached_property import cached_property\n",
    "\n",
    "from typing import Tuple, List, Dict, Any"
   ]
  },
  {
   "cell_type": "code",
   "execution_count": null,
   "metadata": {},
   "outputs": [],
   "source": [
    "print(\"tensorflow version: {}\".format(tf.__version__))\n",
    "print(\"keras version: {}\".format(kr.__version__))\n",
    "print(\"available gpu: {}\".format(tf.test.gpu_device_name()))"
   ]
  },
  {
   "cell_type": "markdown",
   "metadata": {},
   "source": [
    "Sets the seed to guarantee the experiment reproducibility"
   ]
  },
  {
   "cell_type": "code",
   "execution_count": null,
   "metadata": {},
   "outputs": [],
   "source": [
    "SEED = abs(hash(\"cookies\")) // 2**32\n",
    "tf.random.set_seed(SEED)\n",
    "np.random.seed(SEED)"
   ]
  },
  {
   "cell_type": "markdown",
   "metadata": {},
   "source": [
    "Sets some experiment's parameters"
   ]
  },
  {
   "cell_type": "code",
   "execution_count": null,
   "metadata": {},
   "outputs": [],
   "source": [
    "BS = 64\n",
    "IMAGE_SIZE = (256, 256)\n",
    "EPOCHS = 30\n",
    "EPOCHS_FINE = 30"
   ]
  },
  {
   "cell_type": "markdown",
   "metadata": {
    "id": "6WnxEi9DEan2",
    "papermill": {
     "duration": 0.011535,
     "end_time": "2020-11-20T16:12:07.729244",
     "exception": false,
     "start_time": "2020-11-20T16:12:07.717709",
     "status": "completed"
    },
    "pycharm": {
     "name": "#%% md\n"
    },
    "tags": []
   },
   "source": [
    "Defines the data paths"
   ]
  },
  {
   "cell_type": "code",
   "execution_count": null,
   "metadata": {
    "execution": {
     "iopub.execute_input": "2020-11-20T16:12:07.759009Z",
     "iopub.status.busy": "2020-11-20T16:12:07.758133Z",
     "iopub.status.idle": "2020-11-20T16:12:07.761986Z",
     "shell.execute_reply": "2020-11-20T16:12:07.761514Z"
    },
    "id": "tZ9XAkwvEan3",
    "papermill": {
     "duration": 0.021221,
     "end_time": "2020-11-20T16:12:07.762088",
     "exception": false,
     "start_time": "2020-11-20T16:12:07.740867",
     "status": "completed"
    },
    "pycharm": {
     "name": "#%%\n"
    },
    "tags": []
   },
   "outputs": [],
   "source": [
    "PATH_DATA = pathlib.Path(\"./\") / \"MaskDataset\"\n",
    "\n",
    "PATH_WORKING = pathlib.Path(\"./\") / \"working\"\n",
    "\n",
    "PATH_TRAINING = PATH_DATA / \"training\"\n",
    "PATH_TRAINING_OUTPUT = PATH_DATA / \"train_gt.json\"\n",
    "\n",
    "PATH_TEST = PATH_DATA / \"test\""
   ]
  },
  {
   "cell_type": "markdown",
   "metadata": {
    "id": "81Bef8VzGXOX",
    "papermill": {
     "duration": 0.011344,
     "end_time": "2020-11-20T16:12:07.785242",
     "exception": false,
     "start_time": "2020-11-20T16:12:07.773898",
     "status": "completed"
    },
    "tags": []
   },
   "source": [
    "## Experiment helper"
   ]
  },
  {
   "cell_type": "markdown",
   "metadata": {},
   "source": [
    "The code below provides some functions to manage dataset and output files"
   ]
  },
  {
   "cell_type": "markdown",
   "metadata": {},
   "source": [
    "### category"
   ]
  },
  {
   "cell_type": "markdown",
   "metadata": {},
   "source": [
    "Helping to convert categories to current encoding"
   ]
  },
  {
   "cell_type": "code",
   "execution_count": null,
   "metadata": {},
   "outputs": [],
   "source": [
    "class Category(Enum):\n",
    "    NO_MASK = 0\n",
    "    ALL_MASK = 1\n",
    "    SOMEONE_MASK = 2\n",
    "\n",
    "    @staticmethod\n",
    "    def to_value(cat: int) -> int:\n",
    "        if cat == 2:\n",
    "            return (1,0)\n",
    "        if cat == 1:\n",
    "            return (1,1)\n",
    "        if cat == 0:\n",
    "            return (0,0)\n",
    "\n",
    "    @staticmethod\n",
    "    def from_value(value: int) -> int:\n",
    "        if value == (1,0):\n",
    "            return 2\n",
    "        if value == (1,1):\n",
    "            return 1\n",
    "        if value == (0,0):\n",
    "            return 0"
   ]
  },
  {
   "cell_type": "markdown",
   "metadata": {},
   "source": [
    "### Dataset"
   ]
  },
  {
   "cell_type": "markdown",
   "metadata": {},
   "source": [
    "`Dataset` takes care of loading in memory the images of the datasets"
   ]
  },
  {
   "cell_type": "code",
   "execution_count": null,
   "metadata": {},
   "outputs": [],
   "source": [
    "class Dataset:\n",
    "    training: Tuple[np.array, np.array] = None\n",
    "    validation: Tuple[np.array, np.array] = None\n",
    "    test: Tuple[np.array, str] = None\n",
    "\n",
    "    @classmethod\n",
    "    def load_data(cls):\n",
    "        images = []\n",
    "        labels = []\n",
    "\n",
    "        with open(PATH_TRAINING_OUTPUT) as output_file:\n",
    "            output = json.load(output_file)\n",
    "            for filename, category in output.items():\n",
    "                labels.append(category)\n",
    "\n",
    "                path_image = PATH_TRAINING / filename\n",
    "\n",
    "                image = kr.preprocessing.image.load_img(path_image,\n",
    "                                                        target_size=IMAGE_SIZE)\n",
    "                image = kr.preprocessing.image.img_to_array(image)\n",
    "\n",
    "                images.append(image)\n",
    "\n",
    "        images = np.array(images, dtype=np.float32)\n",
    "        labels = np.array(list(map(Category.to_value, labels)), dtype=\"float\")\n",
    "\n",
    "        dataset = sk.model_selection.train_test_split(images,\n",
    "                                                      labels,\n",
    "                                                      test_size=0.20,\n",
    "                                                      stratify=labels,\n",
    "                                                      random_state=SEED)\n",
    "\n",
    "        cls.training = (dataset[0], dataset[2])\n",
    "        cls.validation = (dataset[1], dataset[3])\n",
    "\n",
    "        test_images = []\n",
    "        test_filename = []\n",
    "        for path_file in PATH_TEST.glob(\"*.jpg\"):\n",
    "            test_filename.append(path_file.name)\n",
    "\n",
    "            image = kr.preprocessing.image.load_img(path_file,\n",
    "                                                    target_size=IMAGE_SIZE)\n",
    "            image = kr.preprocessing.image.img_to_array(image)\n",
    "\n",
    "            test_images.append(image)\n",
    "\n",
    "        cls.test = (np.array(test_images, dtype=np.float32), test_filename)"
   ]
  },
  {
   "cell_type": "markdown",
   "metadata": {},
   "source": [
    "`DatasetGenerator` provides the three preprocessed datasets and it takes care of the process of data augmentation"
   ]
  },
  {
   "cell_type": "code",
   "execution_count": null,
   "metadata": {},
   "outputs": [],
   "source": [
    "class DatasetGenerator:\n",
    "    def __init__(self, preprocessing_function=None):\n",
    "        if Dataset.training is None:\n",
    "            Dataset.load_data()\n",
    "\n",
    "        self._preprocessing_function = preprocessing_function\n",
    "\n",
    "    @cached_property\n",
    "    def training(self) -> kr.preprocessing.image.NumpyArrayIterator:\n",
    "        return kr.preprocessing.image.ImageDataGenerator(\n",
    "            preprocessing_function=self._preprocessing_function,\n",
    "            rotation_range=20,\n",
    "            zoom_range=0.15,\n",
    "            width_shift_range=0.2,\n",
    "            height_shift_range=0.2,\n",
    "            shear_range=0.15,\n",
    "            horizontal_flip=True,\n",
    "            fill_mode=\"nearest\").flow(*Dataset.training, batch_size=BS)\n",
    "\n",
    "    @cached_property\n",
    "    def validation(self) -> kr.preprocessing.image.NumpyArrayIterator:\n",
    "        return kr.preprocessing.image.ImageDataGenerator(\n",
    "            preprocessing_function=self._preprocessing_function).flow(\n",
    "                *Dataset.validation, batch_size=BS)\n",
    "\n",
    "    @cached_property\n",
    "    def test(self) -> Tuple[kr.preprocessing.image.NumpyArrayIterator, str]:\n",
    "        return (kr.preprocessing.image.ImageDataGenerator(\n",
    "            preprocessing_function=self._preprocessing_function).flow(\n",
    "                Dataset.test[0], batch_size=1, shuffle=False), Dataset.test[1])"
   ]
  },
  {
   "cell_type": "markdown",
   "metadata": {},
   "source": [
    "### Experiment"
   ]
  },
  {
   "cell_type": "markdown",
   "metadata": {},
   "source": [
    "`Experiment` simplifies the process of experiment realization providing callbacks and some methods to save the model and to compute the prediction"
   ]
  },
  {
   "cell_type": "code",
   "execution_count": null,
   "metadata": {
    "execution": {
     "iopub.execute_input": "2020-11-20T16:12:07.831756Z",
     "iopub.status.busy": "2020-11-20T16:12:07.821220Z",
     "iopub.status.idle": "2020-11-20T16:12:07.854187Z",
     "shell.execute_reply": "2020-11-20T16:12:07.853729Z"
    },
    "id": "RFogt_7nEaoI",
    "papermill": {
     "duration": 0.057582,
     "end_time": "2020-11-20T16:12:07.854278",
     "exception": false,
     "start_time": "2020-11-20T16:12:07.796696",
     "status": "completed"
    },
    "pycharm": {
     "name": "#%%\n"
    },
    "tags": []
   },
   "outputs": [],
   "source": [
    "class Experiment:\n",
    "    def __init__(self, exp_name: str = \"exp\", exp_id: str = None, preprocessing_function=None, **kwargs):\n",
    "        self.dataset = DatasetGenerator(preprocessing_function)\n",
    "\n",
    "        self._id = \"{}_{}\".format(\n",
    "            datetime.now().strftime(\"%m-%d_%H-%M\"),\n",
    "            exp_name\n",
    "        ) if exp_id is None else exp_id\n",
    "\n",
    "        self._path = PATH_WORKING / self._id\n",
    "        \n",
    "        self._path_checkpoints = self._path / \"checkpoints\"\n",
    "        self._path_tensorboard_log = self._path / \"tb_log\"\n",
    "        self._path_models = self._path / \"models\"\n",
    "        self._path_results = self._path / \"results.csv\"\n",
    "\n",
    "    def get_callbacks(self,\n",
    "                      checkpoints: bool = False,\n",
    "                      tensorboard: bool = True,\n",
    "                      early_stopping: bool = True\n",
    "                      ):\n",
    "        # returns a list of desidered callbacks for the fit process\n",
    "        callbacks = []\n",
    "\n",
    "        # if they are required, checkpoints will be saved in a specific experiment subdirecotry\n",
    "        if checkpoints:\n",
    "            os.makedirs(self._path_checkpoints, exist_ok=True)\n",
    "\n",
    "            callbacks.append(kr.callbacks.ModelCheckpoint(\n",
    "                self._path_checkpoints / \"cp-{epoch:04d}.ckpt\"\n",
    "            ))\n",
    "\n",
    "        # if they are required, tensorboard files will be generated\n",
    "        if tensorboard:\n",
    "            os.makedirs(self._path_tensorboard_log, exist_ok=True)\n",
    "\n",
    "            callbacks.append(kr.callbacks.TensorBoard(\n",
    "                self._path_tensorboard_log,\n",
    "                histogram_freq=1,\n",
    "                profile_batch=0\n",
    "            ))\n",
    "        \n",
    "        # if it is required, a callback for early stopping will be enabled\n",
    "        if early_stopping:\n",
    "            callbacks.append(kr.callbacks.EarlyStopping(\n",
    "                patience=5,\n",
    "                restore_best_weights=True\n",
    "            ))\n",
    "\n",
    "        return callbacks\n",
    "\n",
    "    def save_model(self, model: tf.keras.Model, model_id: str = None):\n",
    "        # saves the provided model in the experiment models path, if model_id is provided saves the model in a subdirectory\n",
    "        os.makedirs(self._path_models, exist_ok=True)\n",
    "        \n",
    "        model.save(self._path_models if model_id is None else self._path_models / model_id)\n",
    "\n",
    "    def load_model(self, model_id: str = None) -> kr.Model:\n",
    "        # loads the model from path of experiment, if a model_id is provided loads the specific model\n",
    "        return kr.models.load_model(self._path_models if model_id is None else self._path_models / model_id)\n",
    "\n",
    "    def get_test_prediction(self, model: tf.keras.Model):\n",
    "        # computes the prediction for the test set and returns a dict of name file -> predicted category \n",
    "        dataset_test = self.dataset.test\n",
    "\n",
    "        preditcions_list = model.predict(dataset_test[0], batch_size=BS)\n",
    "\n",
    "        output = {}\n",
    "        \n",
    "        for i in range(len(preditcions_list)):\n",
    "            code = (\n",
    "                0 if preditcions_list[i][0] < 0.5 else 1,\n",
    "                0 if preditcions_list[i][1] < 0.5 else 1\n",
    "            )\n",
    "\n",
    "            output[dataset_test[1][i]] = Category.from_value(code)\n",
    "        \n",
    "        return output\n",
    "\n",
    "    def mk_report_test_prediction(self, model: tf.keras.Model):\n",
    "        # creates a results.csv for the submission on kaggle\n",
    "        os.makedirs(self._path, exist_ok=True)\n",
    "\n",
    "        predictions = self.get_test_prediction(model)\n",
    "\n",
    "        with open(self._path_results, mode='w') as file:\n",
    "            csv_file = csv.writer(file)\n",
    "            csv_file.writerow([\"Id\", \"Category\"])\n",
    "\n",
    "            for f, c in predictions.items():\n",
    "                csv_file.writerow([f, c])"
   ]
  },
  {
   "cell_type": "markdown",
   "metadata": {
    "id": "W6Vb3emkEaop",
    "papermill": {
     "duration": 0.011321,
     "end_time": "2020-11-20T16:12:07.876978",
     "exception": false,
     "start_time": "2020-11-20T16:12:07.865657",
     "status": "completed"
    },
    "pycharm": {
     "name": "#%% md\n"
    },
    "tags": []
   },
   "source": [
    "## Model"
   ]
  },
  {
   "cell_type": "markdown",
   "metadata": {},
   "source": [
    "Prepares a new experiment helper"
   ]
  },
  {
   "cell_type": "code",
   "execution_count": null,
   "metadata": {},
   "outputs": [],
   "source": [
    "exp = Experiment(\n",
    "    \"tl_ordered_vgg19\",\n",
    "    preprocessing_function=kr.applications.vgg19.preprocess_input\n",
    ")"
   ]
  },
  {
   "cell_type": "markdown",
   "metadata": {},
   "source": [
    "Creates the custom bias layer"
   ]
  },
  {
   "cell_type": "code",
   "execution_count": null,
   "metadata": {},
   "outputs": [],
   "source": [
    "class BiasLayer(kr.layers.Layer):\n",
    "    def __init__(self, units, *args, **kwargs):\n",
    "        super(BiasLayer, self).__init__(*args, **kwargs)\n",
    "        self.bias = self.add_weight(\n",
    "            \"bias\",\n",
    "            shape=[units],\n",
    "            initializer=\"zeros\",\n",
    "            trainable=True\n",
    "        )\n",
    "\n",
    "    def call(self, x):\n",
    "        return x + self.bias"
   ]
  },
  {
   "cell_type": "markdown",
   "metadata": {},
   "source": [
    "Loads the pretrained model `VGG19` trained with `imagenet` dataset, without classification layers"
   ]
  },
  {
   "cell_type": "code",
   "execution_count": null,
   "metadata": {},
   "outputs": [],
   "source": [
    "input_shape = Dataset.training[0].shape[1:]\n",
    "output_shape = Dataset.training[1].shape[1]\n",
    "\n",
    "pretrained_model = kr.applications.VGG19(\n",
    "    weights=\"imagenet\",\n",
    "    include_top=False,\n",
    "    input_shape=input_shape\n",
    ")"
   ]
  },
  {
   "cell_type": "markdown",
   "metadata": {},
   "source": [
    "Attaches a new classification model to the pre-trained model and creates a new model from this net with bias layer"
   ]
  },
  {
   "cell_type": "code",
   "execution_count": null,
   "metadata": {},
   "outputs": [],
   "source": [
    "x = pretrained_model.output\n",
    "x = kr.layers.AveragePooling2D(pool_size=(7, 7))(x)\n",
    "x = kr.layers.Flatten()(x)\n",
    "x = kr.layers.Dense(256, activation=kr.activations.relu)(x)\n",
    "x = kr.layers.Dropout(0.5)(x)\n",
    "# added layers for bias\n",
    "x = kr.layers.Dense(2, use_bias=False)(x)\n",
    "x = BiasLayer(2)(x)\n",
    "x = kr.layers.Activation(\"sigmoid\")(x)\n",
    "\n",
    "model = kr.Model(inputs=pretrained_model.input, outputs=x)"
   ]
  },
  {
   "cell_type": "markdown",
   "metadata": {},
   "source": [
    "Freezes all the layers of the pretrained model"
   ]
  },
  {
   "cell_type": "code",
   "execution_count": null,
   "metadata": {},
   "outputs": [],
   "source": [
    "for layer in pretrained_model.layers:\n",
    "    layer.trainable = False"
   ]
  },
  {
   "cell_type": "markdown",
   "metadata": {},
   "source": [
    "Compiles the new model"
   ]
  },
  {
   "cell_type": "code",
   "execution_count": null,
   "metadata": {
    "execution": {
     "iopub.execute_input": "2020-11-20T16:12:07.912534Z",
     "iopub.status.busy": "2020-11-20T16:12:07.911880Z",
     "iopub.status.idle": "2020-11-20T16:13:01.029561Z",
     "shell.execute_reply": "2020-11-20T16:13:01.028758Z"
    },
    "papermill": {
     "duration": 53.141349,
     "end_time": "2020-11-20T16:13:01.029734",
     "exception": false,
     "start_time": "2020-11-20T16:12:07.888385",
     "status": "completed"
    },
    "pycharm": {
     "name": "#%%\n"
    },
    "tags": []
   },
   "outputs": [],
   "source": [
    "model.compile(\n",
    "    optimizer=kr.optimizers.Adam(lr=1e-4, decay=1e-4 / EPOCHS),\n",
    "    loss='binary_crossentropy',\n",
    "    metrics=[\n",
    "        tf.keras.metrics.BinaryAccuracy(threshold=0.5)\n",
    "    ]\n",
    ")\n",
    "\n",
    "model.summary()"
   ]
  },
  {
   "cell_type": "markdown",
   "metadata": {
    "papermill": {
     "duration": 0.015662,
     "end_time": "2020-11-20T16:13:01.061567",
     "exception": false,
     "start_time": "2020-11-20T16:13:01.045905",
     "status": "completed"
    },
    "tags": []
   },
   "source": [
    "### Classifier training"
   ]
  },
  {
   "cell_type": "markdown",
   "metadata": {},
   "source": [
    "Starts the training of classifier part"
   ]
  },
  {
   "cell_type": "code",
   "execution_count": null,
   "metadata": {
    "execution": {
     "iopub.execute_input": "2020-11-20T16:13:01.100621Z",
     "iopub.status.busy": "2020-11-20T16:13:01.099899Z",
     "iopub.status.idle": "2020-11-20T16:43:55.727717Z",
     "shell.execute_reply": "2020-11-20T16:43:55.728174Z"
    },
    "papermill": {
     "duration": 1854.651179,
     "end_time": "2020-11-20T16:43:55.728340",
     "exception": false,
     "start_time": "2020-11-20T16:13:01.077161",
     "status": "completed"
    },
    "tags": []
   },
   "outputs": [],
   "source": [
    "model.fit(\n",
    "    exp.dataset.training,\n",
    "    validation_data=exp.dataset.validation,\n",
    "    epochs=EPOCHS,\n",
    "    steps_per_epoch=len(Dataset.training[0]) // BS,\n",
    "    validation_steps=len(Dataset.validation[0]) // BS,\n",
    "    callbacks=exp.get_callbacks()\n",
    ")"
   ]
  },
  {
   "cell_type": "markdown",
   "metadata": {},
   "source": [
    "Saves the model trained only for its classifier part"
   ]
  },
  {
   "cell_type": "code",
   "execution_count": null,
   "metadata": {},
   "outputs": [],
   "source": [
    "exp.save_model(model,\"rough\")"
   ]
  },
  {
   "cell_type": "markdown",
   "metadata": {
    "papermill": {
     "duration": 0.015662,
     "end_time": "2020-11-20T16:13:01.061567",
     "exception": false,
     "start_time": "2020-11-20T16:13:01.045905",
     "status": "completed"
    },
    "tags": []
   },
   "source": [
    "### Fine tunning"
   ]
  },
  {
   "cell_type": "markdown",
   "metadata": {},
   "source": [
    "Unfreezes the whole model"
   ]
  },
  {
   "cell_type": "code",
   "execution_count": null,
   "metadata": {},
   "outputs": [],
   "source": [
    "model.trainable = True"
   ]
  },
  {
   "cell_type": "markdown",
   "metadata": {},
   "source": [
    "And recompiles it with a smaller learning rate"
   ]
  },
  {
   "cell_type": "code",
   "execution_count": null,
   "metadata": {
    "execution": {
     "iopub.execute_input": "2020-11-20T16:43:57.013494Z",
     "iopub.status.busy": "2020-11-20T16:43:57.012567Z",
     "iopub.status.idle": "2020-11-20T17:07:56.292044Z",
     "shell.execute_reply": "2020-11-20T17:07:56.290942Z"
    },
    "papermill": {
     "duration": 1439.926781,
     "end_time": "2020-11-20T17:07:56.292170",
     "exception": false,
     "start_time": "2020-11-20T16:43:56.365389",
     "status": "completed"
    },
    "tags": []
   },
   "outputs": [],
   "source": [
    "model.compile(\n",
    "    optimizer=kr.optimizers.Adam(lr=1e-5, decay=1e-5 / EPOCHS_FINE),\n",
    "    loss='binary_crossentropy',\n",
    "    metrics=[\n",
    "        tf.keras.metrics.BinaryAccuracy(threshold=0.5)\n",
    "    ]\n",
    ")\n",
    "\n",
    "model.summary()"
   ]
  },
  {
   "cell_type": "markdown",
   "metadata": {},
   "source": [
    "Starts the fine tuning"
   ]
  },
  {
   "cell_type": "code",
   "execution_count": null,
   "metadata": {},
   "outputs": [],
   "source": [
    "model.fit(\n",
    "    exp.dataset.training,\n",
    "    validation_data=exp.dataset.validation,\n",
    "    epochs=EPOCHS_FINE,\n",
    "    steps_per_epoch=len(Dataset.training[0]) // BS,\n",
    "    validation_steps=len(Dataset.validation[0]) // BS,\n",
    "    callbacks=exp.get_callbacks()\n",
    ")"
   ]
  },
  {
   "cell_type": "markdown",
   "metadata": {},
   "source": [
    "Saves the tuned model"
   ]
  },
  {
   "cell_type": "code",
   "execution_count": null,
   "metadata": {},
   "outputs": [],
   "source": [
    "exp.save_model(model,\"fine\")"
   ]
  },
  {
   "cell_type": "markdown",
   "metadata": {
    "papermill": {
     "duration": 1.092267,
     "end_time": "2020-11-20T17:07:58.425048",
     "exception": false,
     "start_time": "2020-11-20T17:07:57.332781",
     "status": "completed"
    },
    "tags": []
   },
   "source": [
    "## Prediction"
   ]
  },
  {
   "cell_type": "markdown",
   "metadata": {},
   "source": [
    "Creates the results file for the kaggle submission, exploiting the tuned model"
   ]
  },
  {
   "cell_type": "code",
   "execution_count": null,
   "metadata": {
    "execution": {
     "iopub.execute_input": "2020-11-20T17:08:00.514287Z",
     "iopub.status.busy": "2020-11-20T17:08:00.513306Z",
     "iopub.status.idle": "2020-11-20T17:08:03.081546Z",
     "shell.execute_reply": "2020-11-20T17:08:03.080072Z"
    },
    "papermill": {
     "duration": 3.621909,
     "end_time": "2020-11-20T17:08:03.081672",
     "exception": false,
     "start_time": "2020-11-20T17:07:59.459763",
     "status": "completed"
    },
    "pycharm": {
     "name": "#%%\n"
    },
    "tags": []
   },
   "outputs": [],
   "source": [
    "exp.mk_report_test_prediction(model)"
   ]
  }
 ],
 "metadata": {
  "kernelspec": {
   "display_name": "Python 3",
   "language": "python",
   "name": "python3"
  },
  "language_info": {
   "codemirror_mode": {
    "name": "ipython",
    "version": 3
   },
   "file_extension": ".py",
   "mimetype": "text/x-python",
   "name": "python",
   "nbconvert_exporter": "python",
   "pygments_lexer": "ipython3",
   "version": "3.8.6"
  },
  "papermill": {
   "duration": 3377.393426,
   "end_time": "2020-11-20T17:08:05.822250",
   "environment_variables": {},
   "exception": null,
   "input_path": "__notebook__.ipynb",
   "output_path": "__notebook__.ipynb",
   "parameters": {},
   "start_time": "2020-11-20T16:11:48.428824",
   "version": "2.1.0"
  }
 },
 "nbformat": 4,
 "nbformat_minor": 4
}
